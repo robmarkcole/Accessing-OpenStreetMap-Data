{
 "cells": [
  {
   "cell_type": "markdown",
   "source": [
    "# 1. Intro\n",
    "This notebook demonstrates the process of gathering local amenity data from OpenStreetMap. Local amenity data of this sort could be used to improve the accuracy of a whole range of ML models. In this notebook, the idea is that that presence of these amenities could help us predict what an AirBnb host might charge.\n",
    "\n",
    "In this notebook we cover the following:\n",
    "\n",
    "- How to make basic requests from OpenStreetMap using OSMnx\n",
    "- How to efficiently calculate the number of amenities that fall within a 5 minute walk of each AirBnb (approximately 0.5km distance)."
   ],
   "metadata": {}
  },
  {
   "cell_type": "markdown",
   "source": [
    "# 2. Accessing OSM with OSMnx"
   ],
   "metadata": {}
  },
  {
   "cell_type": "code",
   "execution_count": 1,
   "source": [
    "# Import visualisation modules\n",
    "import matplotlib as mpl \n",
    "%matplotlib inline \n",
    "import matplotlib.pyplot as plt \n",
    "\n",
    "#Import modules\n",
    "import osmnx as ox\n",
    "import pandas as pd\n",
    "import geopandas as gpd\n",
    "import numpy as np\n",
    "\n",
    "import warnings \n",
    "warnings.simplefilter(action='ignore')"
   ],
   "outputs": [],
   "metadata": {}
  },
  {
   "cell_type": "markdown",
   "source": [
    "### Basic OSMnx Query\n",
    "All queries follow the following dictionary format: {'feature_type' : 'feature'}. A full list of OSMnx features can be found [here](https://wiki.openstreetmap.org/wiki/Map_Features). Note, the quality and accuracy of features may vary. OSMnx returns a geopandas dataframe (basically a pandas dataframe with longitude and latitude geometry built into it). It may take a few minutes to download the data."
   ],
   "metadata": {}
  },
  {
   "cell_type": "code",
   "execution_count": 3,
   "source": [
    "# Set up query\n",
    "query = {'amenity':'restaurant'}\n",
    "\n",
    "# Run query\n",
    "# restaurants_gdf = ox.pois.pois_from_place(\n",
    "restaurants_gdf = ox.geometries_from_place(\n",
    "            'Greater London, UK',\n",
    "            tags = query,\n",
    "            which_result=1)\n",
    "\n",
    "restaurants_gdf.head(5)"
   ],
   "outputs": [
    {
     "output_type": "execute_result",
     "data": {
      "text/html": [
       "<div>\n",
       "<style scoped>\n",
       "    .dataframe tbody tr th:only-of-type {\n",
       "        vertical-align: middle;\n",
       "    }\n",
       "\n",
       "    .dataframe tbody tr th {\n",
       "        vertical-align: top;\n",
       "    }\n",
       "\n",
       "    .dataframe thead th {\n",
       "        text-align: right;\n",
       "    }\n",
       "</style>\n",
       "<table border=\"1\" class=\"dataframe\">\n",
       "  <thead>\n",
       "    <tr style=\"text-align: right;\">\n",
       "      <th></th>\n",
       "      <th></th>\n",
       "      <th>amenity</th>\n",
       "      <th>name</th>\n",
       "      <th>geometry</th>\n",
       "      <th>addr:city</th>\n",
       "      <th>addr:housename</th>\n",
       "      <th>addr:housenumber</th>\n",
       "      <th>addr:postcode</th>\n",
       "      <th>addr:street</th>\n",
       "      <th>cuisine</th>\n",
       "      <th>fhrs:authority</th>\n",
       "      <th>...</th>\n",
       "      <th>dinner</th>\n",
       "      <th>lunch</th>\n",
       "      <th>old_old_name</th>\n",
       "      <th>terrace</th>\n",
       "      <th>note_2</th>\n",
       "      <th>roof:height</th>\n",
       "      <th>lgbtq</th>\n",
       "      <th>delivery:partner</th>\n",
       "      <th>amenity2</th>\n",
       "      <th>ways</th>\n",
       "    </tr>\n",
       "    <tr>\n",
       "      <th>element_type</th>\n",
       "      <th>osmid</th>\n",
       "      <th></th>\n",
       "      <th></th>\n",
       "      <th></th>\n",
       "      <th></th>\n",
       "      <th></th>\n",
       "      <th></th>\n",
       "      <th></th>\n",
       "      <th></th>\n",
       "      <th></th>\n",
       "      <th></th>\n",
       "      <th></th>\n",
       "      <th></th>\n",
       "      <th></th>\n",
       "      <th></th>\n",
       "      <th></th>\n",
       "      <th></th>\n",
       "      <th></th>\n",
       "      <th></th>\n",
       "      <th></th>\n",
       "      <th></th>\n",
       "      <th></th>\n",
       "    </tr>\n",
       "  </thead>\n",
       "  <tbody>\n",
       "    <tr>\n",
       "      <th rowspan=\"5\" valign=\"top\">node</th>\n",
       "      <th>451153</th>\n",
       "      <td>restaurant</td>\n",
       "      <td>Central Restaurant</td>\n",
       "      <td>POINT (-0.19350 51.60203)</td>\n",
       "      <td>NaN</td>\n",
       "      <td>NaN</td>\n",
       "      <td>NaN</td>\n",
       "      <td>NaN</td>\n",
       "      <td>NaN</td>\n",
       "      <td>NaN</td>\n",
       "      <td>NaN</td>\n",
       "      <td>...</td>\n",
       "      <td>NaN</td>\n",
       "      <td>NaN</td>\n",
       "      <td>NaN</td>\n",
       "      <td>NaN</td>\n",
       "      <td>NaN</td>\n",
       "      <td>NaN</td>\n",
       "      <td>NaN</td>\n",
       "      <td>NaN</td>\n",
       "      <td>NaN</td>\n",
       "      <td>NaN</td>\n",
       "    </tr>\n",
       "    <tr>\n",
       "      <th>26544484</th>\n",
       "      <td>restaurant</td>\n",
       "      <td>Casuarina Tree</td>\n",
       "      <td>POINT (-0.17223 51.39801)</td>\n",
       "      <td>Mitcham</td>\n",
       "      <td>The Crown Inn</td>\n",
       "      <td>407</td>\n",
       "      <td>CR4 4BG</td>\n",
       "      <td>London Road</td>\n",
       "      <td>indian</td>\n",
       "      <td>Merton</td>\n",
       "      <td>...</td>\n",
       "      <td>NaN</td>\n",
       "      <td>NaN</td>\n",
       "      <td>NaN</td>\n",
       "      <td>NaN</td>\n",
       "      <td>NaN</td>\n",
       "      <td>NaN</td>\n",
       "      <td>NaN</td>\n",
       "      <td>NaN</td>\n",
       "      <td>NaN</td>\n",
       "      <td>NaN</td>\n",
       "    </tr>\n",
       "    <tr>\n",
       "      <th>26604024</th>\n",
       "      <td>restaurant</td>\n",
       "      <td>Jin Li</td>\n",
       "      <td>POINT (-0.45855 51.52573)</td>\n",
       "      <td>Uxbridge</td>\n",
       "      <td>NaN</td>\n",
       "      <td>91</td>\n",
       "      <td>UB8 3NJ</td>\n",
       "      <td>Pield Heath Road</td>\n",
       "      <td>chinese</td>\n",
       "      <td>NaN</td>\n",
       "      <td>...</td>\n",
       "      <td>NaN</td>\n",
       "      <td>NaN</td>\n",
       "      <td>NaN</td>\n",
       "      <td>NaN</td>\n",
       "      <td>NaN</td>\n",
       "      <td>NaN</td>\n",
       "      <td>NaN</td>\n",
       "      <td>NaN</td>\n",
       "      <td>NaN</td>\n",
       "      <td>NaN</td>\n",
       "    </tr>\n",
       "    <tr>\n",
       "      <th>26845558</th>\n",
       "      <td>restaurant</td>\n",
       "      <td>Old Tree Daiwan Bee</td>\n",
       "      <td>POINT (-0.13256 51.51105)</td>\n",
       "      <td>NaN</td>\n",
       "      <td>NaN</td>\n",
       "      <td>NaN</td>\n",
       "      <td>NaN</td>\n",
       "      <td>NaN</td>\n",
       "      <td>taiwan</td>\n",
       "      <td>NaN</td>\n",
       "      <td>...</td>\n",
       "      <td>NaN</td>\n",
       "      <td>NaN</td>\n",
       "      <td>NaN</td>\n",
       "      <td>NaN</td>\n",
       "      <td>NaN</td>\n",
       "      <td>NaN</td>\n",
       "      <td>NaN</td>\n",
       "      <td>NaN</td>\n",
       "      <td>NaN</td>\n",
       "      <td>NaN</td>\n",
       "    </tr>\n",
       "    <tr>\n",
       "      <th>31098623</th>\n",
       "      <td>restaurant</td>\n",
       "      <td>The Unicorn</td>\n",
       "      <td>POINT (0.20053 51.58686)</td>\n",
       "      <td>Romford</td>\n",
       "      <td>NaN</td>\n",
       "      <td>91</td>\n",
       "      <td>RM2 5EL</td>\n",
       "      <td>Main Road</td>\n",
       "      <td>american</td>\n",
       "      <td>NaN</td>\n",
       "      <td>...</td>\n",
       "      <td>NaN</td>\n",
       "      <td>NaN</td>\n",
       "      <td>NaN</td>\n",
       "      <td>NaN</td>\n",
       "      <td>NaN</td>\n",
       "      <td>NaN</td>\n",
       "      <td>NaN</td>\n",
       "      <td>NaN</td>\n",
       "      <td>NaN</td>\n",
       "      <td>NaN</td>\n",
       "    </tr>\n",
       "  </tbody>\n",
       "</table>\n",
       "<p>5 rows × 330 columns</p>\n",
       "</div>"
      ],
      "text/plain": [
       "                          amenity                 name  \\\n",
       "element_type osmid                                       \n",
       "node         451153    restaurant   Central Restaurant   \n",
       "             26544484  restaurant       Casuarina Tree   \n",
       "             26604024  restaurant               Jin Li   \n",
       "             26845558  restaurant  Old Tree Daiwan Bee   \n",
       "             31098623  restaurant          The Unicorn   \n",
       "\n",
       "                                        geometry addr:city addr:housename  \\\n",
       "element_type osmid                                                          \n",
       "node         451153    POINT (-0.19350 51.60203)       NaN            NaN   \n",
       "             26544484  POINT (-0.17223 51.39801)   Mitcham  The Crown Inn   \n",
       "             26604024  POINT (-0.45855 51.52573)  Uxbridge            NaN   \n",
       "             26845558  POINT (-0.13256 51.51105)       NaN            NaN   \n",
       "             31098623   POINT (0.20053 51.58686)   Romford            NaN   \n",
       "\n",
       "                      addr:housenumber addr:postcode       addr:street  \\\n",
       "element_type osmid                                                       \n",
       "node         451153                NaN           NaN               NaN   \n",
       "             26544484              407       CR4 4BG       London Road   \n",
       "             26604024               91       UB8 3NJ  Pield Heath Road   \n",
       "             26845558              NaN           NaN               NaN   \n",
       "             31098623               91       RM2 5EL         Main Road   \n",
       "\n",
       "                        cuisine fhrs:authority  ... dinner lunch old_old_name  \\\n",
       "element_type osmid                              ...                             \n",
       "node         451153         NaN            NaN  ...    NaN   NaN          NaN   \n",
       "             26544484    indian         Merton  ...    NaN   NaN          NaN   \n",
       "             26604024   chinese            NaN  ...    NaN   NaN          NaN   \n",
       "             26845558    taiwan            NaN  ...    NaN   NaN          NaN   \n",
       "             31098623  american            NaN  ...    NaN   NaN          NaN   \n",
       "\n",
       "                      terrace note_2 roof:height lgbtq delivery:partner  \\\n",
       "element_type osmid                                                        \n",
       "node         451153       NaN    NaN         NaN   NaN              NaN   \n",
       "             26544484     NaN    NaN         NaN   NaN              NaN   \n",
       "             26604024     NaN    NaN         NaN   NaN              NaN   \n",
       "             26845558     NaN    NaN         NaN   NaN              NaN   \n",
       "             31098623     NaN    NaN         NaN   NaN              NaN   \n",
       "\n",
       "                      amenity2 ways  \n",
       "element_type osmid                   \n",
       "node         451153        NaN  NaN  \n",
       "             26544484      NaN  NaN  \n",
       "             26604024      NaN  NaN  \n",
       "             26845558      NaN  NaN  \n",
       "             31098623      NaN  NaN  \n",
       "\n",
       "[5 rows x 330 columns]"
      ]
     },
     "metadata": {},
     "execution_count": 3
    }
   ],
   "metadata": {}
  },
  {
   "cell_type": "markdown",
   "source": [
    "## Visualise the Results"
   ],
   "metadata": {}
  },
  {
   "cell_type": "code",
   "execution_count": 4,
   "source": [
    "# Download London's Boundary\n",
    "london_gdf = ox.geocoder.geocode_to_gdf('Greater London, UK')\n",
    "\n",
    "# Set up a plot axis\n",
    "fig, ax = plt.subplots(figsize = (15,10))\n",
    "\n",
    "# Visualise both on the plot\n",
    "london_gdf.plot(ax = ax, alpha = 0.5)\n",
    "restaurants_gdf.plot(ax = ax, markersize = 1, color = 'red', alpha = 0.8, label = 'Restaurant \\nLocations')\n",
    "plt.legend()"
   ],
   "outputs": [
    {
     "output_type": "execute_result",
     "data": {
      "text/plain": [
       "<matplotlib.legend.Legend at 0x14fd4f820>"
      ]
     },
     "metadata": {},
     "execution_count": 4
    },
    {
     "output_type": "display_data",
     "data": {
      "image/png": "[encoded data removed]",
      "text/plain": [
       "<Figure size 1080x720 with 1 Axes>"
      ]
     },
     "metadata": {
      "needs_background": "light"
     }
    }
   ],
   "metadata": {}
  },
  {
   "cell_type": "markdown",
   "source": [
    "# Assembling Data"
   ],
   "metadata": {}
  },
  {
   "cell_type": "markdown",
   "source": [
    "OSMNX returns most restaurant properties as a single point (eg. Longitude / Latitude coordinates). However, a few are returned as polygons (a shape). This usually happens when the property is particularly large. Working with polygons is a lot more complicated than working with points, so below, we will work out the centre point of any polygons. We do this using Spapely."
   ],
   "metadata": {}
  },
  {
   "cell_type": "code",
   "execution_count": 5,
   "source": [
    "from shapely.geometry.polygon import Polygon\n",
    "from shapely.geometry.multipolygon import MultiPolygon\n",
    "\n",
    "restaurants_gdf['geometry'] = restaurants_gdf['geometry'].apply(\n",
    "  lambda x: x.centroid if type(x) == Polygon else (\n",
    "  x.centroid if type(x) == MultiPolygon else x)\n",
    ")"
   ],
   "outputs": [],
   "metadata": {}
  },
  {
   "cell_type": "markdown",
   "source": [
    "### Converting Local Projections\n",
    "Before we carry out any calculations we need to convert our point coordinates to a local projection. As you know, the earth is a sphere. A projection is a method of flattening the surface of the earth so we can display it on a map. The problem, however, is that there is no way to flatten the surface of a sphere in a way that all parts are sized proportionately equal.\n",
    "\n",
    "The only way to get around this is to find a projection that makes the specific part of the world that you are interested in proportionately equal. These are called local UTM Coordinate Referencing System (CRS). Fortunately, OSMnx has a method built into it that allows us to find the correct local UTM."
   ],
   "metadata": {}
  },
  {
   "cell_type": "code",
   "execution_count": 6,
   "source": [
    "def get_local_crs(y,x):\n",
    "    x = ox.utils_geo.bbox_from_point((y, x), dist = 500, project_utm = True, return_crs = True)\n",
    "    return x[-1]\n",
    "\n",
    "lon_latitude = 51.509865\n",
    "lon_longitude = -0.118092\n",
    "local_utm_crs = get_local_crs(lon_latitude, lon_longitude)\n",
    "\n",
    "local_utm_crs"
   ],
   "outputs": [
    {
     "output_type": "execute_result",
     "data": {
      "text/plain": [
       "<Projected CRS: +proj=utm +zone=30 +ellps=WGS84 +datum=WGS84 +unit ...>\n",
       "Name: unknown\n",
       "Axis Info [cartesian]:\n",
       "- E[east]: Easting (metre)\n",
       "- N[north]: Northing (metre)\n",
       "Area of Use:\n",
       "- undefined\n",
       "Coordinate Operation:\n",
       "- name: UTM zone 30N\n",
       "- method: Transverse Mercator\n",
       "Datum: World Geodetic System 1984\n",
       "- Ellipsoid: WGS 84\n",
       "- Prime Meridian: Greenwich"
      ]
     },
     "metadata": {},
     "execution_count": 6
    }
   ],
   "metadata": {}
  },
  {
   "cell_type": "markdown",
   "source": [
    "Next we import our AirBnb room data and convert it into a Geographic dataframe."
   ],
   "metadata": {}
  },
  {
   "cell_type": "code",
   "execution_count": 7,
   "source": [
    "# Create a Geographic data of our \n",
    "air_df = pd.read_csv('airbnb_rooms.csv')\n",
    "\n",
    "# Note below: \"crs = 4326\" is our way of telling geopandas that the initial projection uses the standard\n",
    "# longitude latitude coordinates. You can't manipulate the CRS if you haven't set one initially.\n",
    "\n",
    "air_gdf = gpd.GeoDataFrame(air_df, geometry = gpd.points_from_xy(air_df.longitude, air_df.latitude), crs = 4326)\n",
    "air_gdf = air_gdf.to_crs(local_utm_crs)\n",
    "\n",
    "#Convert amenities into local projection (amenities already had an initial CRS set when we downloaded it via OSMnx)\n",
    "restaurants_gdf = restaurants_gdf.to_crs(local_utm_crs)"
   ],
   "outputs": [],
   "metadata": {}
  },
  {
   "cell_type": "markdown",
   "source": [
    "### Calculating Distance Using a KDTree\n",
    "So next, we need to iterate through each AirBnb property and work out how many restaurants there are within a 10 minute walk (approximately 1km). \n",
    "I do this using a K-D Tree. Explaining how K-D Trees work is outside the scope of this article, but in short, they're a super efficient way of searching through our 80,000 AirBnb rooms and 6,000 restaurants and figuring out which ones are close to which. First we set up the tree of all restaurant points."
   ],
   "metadata": {}
  },
  {
   "cell_type": "code",
   "execution_count": 8,
   "source": [
    "import time\n",
    "from scipy import spatial\n",
    "from scipy.spatial import KDTree\n",
    "\n",
    "# Turn long/lats into an array for Scipy\n",
    "Lon = restaurants_gdf.geometry.apply(lambda x: x.x).values\n",
    "Lat = restaurants_gdf.geometry.apply(lambda x: x.y).values\n",
    "coords = list(zip(Lat,Lon))\n",
    "\n",
    "tree = spatial.KDTree(coords) # Create a KDTree of all tube stations"
   ],
   "outputs": [],
   "metadata": {}
  },
  {
   "cell_type": "markdown",
   "source": [
    "Then we create a function which we will run on each of our AirBnb rooms. The function will query the tree, and find the 500 closest restaurants along with calculating their distances from the AirBnb property. We use a figure of 500 in the hope that no property has more than 500 restaurants close to it."
   ],
   "metadata": {}
  },
  {
   "cell_type": "code",
   "execution_count": 9,
   "source": [
    "def find_points_closeby(lat_lon, k = 500, max_distance = 1000 ):\n",
    "  '''\n",
    "  Queries a pre-existing kd tree and returns the number of points within x distance\n",
    "  of long/lat point.\n",
    "  lat_lon:        A longitude and latitude pairings in the (y, x) tuple form.\n",
    "  k:              The maximum number of closest points to query\n",
    "  max_distance:   The maximum distance (in meters)\n",
    "  '''\n",
    "  \n",
    "  results = tree.query((lat_lon), k = k, distance_upper_bound= max_distance)\n",
    "  zipped_results = list(zip(results[0], results[1]))\n",
    "  zipped_results = [i for i in zipped_results if i[0] != np.inf]\n",
    "  \n",
    "  return len(zipped_results)"
   ],
   "outputs": [],
   "metadata": {}
  },
  {
   "cell_type": "markdown",
   "source": [
    "And finally, we set up a timer and apply the function to each AirBnb row"
   ],
   "metadata": {}
  },
  {
   "cell_type": "code",
   "execution_count": 10,
   "source": [
    "# Set up a timer \n",
    "import time \n",
    "t0 = time.time()\n",
    "\n",
    "#Apply the function\n",
    "air_gdf['restaurants'] = air_gdf.apply(lambda row: find_points_closeby(\n",
    "  (row.geometry.y, row.geometry.x)) , axis = 1)\n",
    "\n",
    "# Report the time\n",
    "time_passed = round(time.time() - t0, 2)\n",
    "print (\"Completed in %s seconds\" % (time_passed))"
   ],
   "outputs": [
    {
     "output_type": "stream",
     "name": "stdout",
     "text": [
      "Completed in 12.22 seconds\n"
     ]
    }
   ],
   "metadata": {}
  },
  {
   "cell_type": "markdown",
   "source": [
    "You now know how many restaurants there are within a 10-minute walk of each AirBnb property. You could repeat this process for bars, shops, subway stations, tourist hotspots, public parks, and whatever else you think may influence the price of an AirBnb property"
   ],
   "metadata": {}
  },
  {
   "cell_type": "code",
   "execution_count": 11,
   "source": [
    "air_gdf[['id','restaurants']].head(5)"
   ],
   "outputs": [
    {
     "output_type": "execute_result",
     "data": {
      "text/html": [
       "<div>\n",
       "<style scoped>\n",
       "    .dataframe tbody tr th:only-of-type {\n",
       "        vertical-align: middle;\n",
       "    }\n",
       "\n",
       "    .dataframe tbody tr th {\n",
       "        vertical-align: top;\n",
       "    }\n",
       "\n",
       "    .dataframe thead th {\n",
       "        text-align: right;\n",
       "    }\n",
       "</style>\n",
       "<table border=\"1\" class=\"dataframe\">\n",
       "  <thead>\n",
       "    <tr style=\"text-align: right;\">\n",
       "      <th></th>\n",
       "      <th>id</th>\n",
       "      <th>restaurants</th>\n",
       "    </tr>\n",
       "  </thead>\n",
       "  <tbody>\n",
       "    <tr>\n",
       "      <th>0</th>\n",
       "      <td>13913</td>\n",
       "      <td>47</td>\n",
       "    </tr>\n",
       "    <tr>\n",
       "      <th>1</th>\n",
       "      <td>15400</td>\n",
       "      <td>142</td>\n",
       "    </tr>\n",
       "    <tr>\n",
       "      <th>2</th>\n",
       "      <td>17402</td>\n",
       "      <td>331</td>\n",
       "    </tr>\n",
       "    <tr>\n",
       "      <th>3</th>\n",
       "      <td>25023</td>\n",
       "      <td>2</td>\n",
       "    </tr>\n",
       "    <tr>\n",
       "      <th>4</th>\n",
       "      <td>25123</td>\n",
       "      <td>7</td>\n",
       "    </tr>\n",
       "  </tbody>\n",
       "</table>\n",
       "</div>"
      ],
      "text/plain": [
       "      id  restaurants\n",
       "0  13913           47\n",
       "1  15400          142\n",
       "2  17402          331\n",
       "3  25023            2\n",
       "4  25123            7"
      ]
     },
     "metadata": {},
     "execution_count": 11
    }
   ],
   "metadata": {}
  },
  {
   "cell_type": "code",
   "execution_count": null,
   "source": [],
   "outputs": [],
   "metadata": {}
  }
 ],
 "metadata": {
  "kernelspec": {
   "name": "python3",
   "display_name": "Python 3.9.5 64-bit ('venv': venv)"
  },
  "language_info": {
   "codemirror_mode": {
    "name": "ipython",
    "version": 3
   },
   "file_extension": ".py",
   "mimetype": "text/x-python",
   "name": "python",
   "nbconvert_exporter": "python",
   "pygments_lexer": "ipython3",
   "version": "3.9.5"
  },
  "interpreter": {
   "hash": "66fd5b740e7aac483b93c52b7913120c195d291a8f2af68a868a8edd2b66954e"
  }
 },
 "nbformat": 4,
 "nbformat_minor": 4
}